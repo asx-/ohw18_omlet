{
 "cells": [
  {
   "cell_type": "code",
   "execution_count": 1,
   "metadata": {},
   "outputs": [],
   "source": [
    "import pandas as pd\n",
    "import numpy as np\n",
    "import webbrowser\n",
    "from urllib.request import urlopen"
   ]
  },
  {
   "cell_type": "markdown",
   "metadata": {},
   "source": [
    "### Functions"
   ]
  },
  {
   "cell_type": "code",
   "execution_count": 2,
   "metadata": {},
   "outputs": [],
   "source": [
    "def load_p_line_cruise(url):\n",
    "    txt = urlopen(url).read()\n",
    "    decode_txt = txt.decode('windows-1252')\n",
    "    raw_csv = decode_txt.split('\\r\\n')\n",
    "\n",
    "    count = 0\n",
    "    for line in raw_csv:\n",
    "        if '.ctd' not in line:\n",
    "            count = count+1\n",
    "        else:\n",
    "            break\n",
    "\n",
    "    header = raw_csv[count-2].split(',')\n",
    "    clean_csv =raw_csv[count:]\n",
    "\n",
    "    data = []\n",
    "    for row in clean_csv:\n",
    "        data.append(row.split(','))\n",
    "\n",
    "    df = pd.DataFrame(data,columns=header)\n",
    "\n",
    "    # Get P-Line Stations only\n",
    "    df.dropna(subset=['Pressure:CTD [dbar]'], inplace=True)\n",
    "    df = df[df['LOC:STATION'].str.startswith('P')]\n",
    "    df = df.apply(pd.to_numeric, errors='ignore')\n",
    "\n",
    "    df.sort_values(by=['LOC:STATION','Pressure:CTD [dbar]'],inplace=True)\n",
    "    df.reset_index(drop=True,inplace=True)\n",
    "    return df\n",
    "\n",
    "\n",
    "def get_station_26(df):\n",
    "    try:\n",
    "        df = df[df['station'] == 'P26']\n",
    "    except:\n",
    "        df = df[df['LOC:STATION'] == 'P26']\n",
    "    df.reset_index(drop=True,inplace=True)\n",
    "    return df\n",
    "\n",
    "def get_station_1(df):\n",
    "    try:\n",
    "        df = df[df['station'] == 'P1']\n",
    "    except:\n",
    "        df = df[df['LOC:STATION'] == 'P1']\n",
    "    df.reset_index(drop=True,inplace=True)\n",
    "    return df\n",
    "\n",
    "def get_station(df,station):\n",
    "    stn = 'P' + station\n",
    "    try:\n",
    "        df = df[df['station'] == stn]\n",
    "    except:\n",
    "        df = df[df['LOC:STATION'] == stn]\n",
    "    df.reset_index(drop=True,inplace=True)\n",
    "    return df\n",
    "\n",
    "def rename_pline_columns(df):\n",
    "    \n",
    "    df.rename(columns={'LOC:LATITUDE':'latitude', 'LOC:LONGITUDE':'longitude','LOC:STATION':'station', 'Pressure:CTD [dbar]':'sea_water_pressure','Temperature:CTD [deg_C_(ITS90)]':'sea_water_temperature','Oxygen:Dissolved:CTD:Mass [µmol/kg]':'moles_of_oxygen_per_unit_mass_in_sea_water','Fluorescence:CTD:Seapoint [mg/m^3]':'mass_concentration_of_chlorophyll'},inplace=True)\n",
    "    return df\n",
    "\n",
    "def build_url(year,month):\n",
    "    url = 'https://www.waterproperties.ca/linep/' + year + '-' + month + '/donneesctddata/' + year + '-' + month + '-ctd-cruise.csv'\n",
    "    return url"
   ]
  },
  {
   "cell_type": "markdown",
   "metadata": {},
   "source": [
    "### Cruise Lists\n",
    "\n",
    "## 2009 01 cruise file was uploaded incorrectly and has an extra STATION column rename or delete this column"
   ]
  },
  {
   "cell_type": "code",
   "execution_count": 3,
   "metadata": {},
   "outputs": [],
   "source": [
    "cruise_list =[ \n",
    "    ('2018','001'),\n",
    "    ('2017', '01'), ('2017','06'), ('2017','08'),\n",
    "    ('2016', '01'), ('2016','06'), ('2016','08'),\n",
    "    ('2015', '01'), ('2015', '09'), ('2015', '10'),\n",
    "    ('2014', '01'), ('2014', '18'), ('2014', '19'),\n",
    "    ('2013', '01'), ('2013', '17'), ('2013', '18'),\n",
    "    ('2012', '01'), ('2012', '12'), ('2012', '13'),\n",
    "    ('2011', '01'), ('2011', '26'), ('2011', '27'),\n",
    "    ('2010', '01'), ('2010', '13'), ('2010', '14'),\n",
    "    ('2009', '09'), ('2009', '10'), #2009 03 is omitted due to formatting error\n",
    "    ('2008', '01'), ('2008', '26'), ('2008', '27'),\n",
    "    ('2007', '01'), ('2007', '13'), ('2007', '15'),\n",
    "]"
   ]
  },
  {
   "cell_type": "code",
   "execution_count": 4,
   "metadata": {},
   "outputs": [
    {
     "data": {
      "text/plain": [
       "'\\n2018 001\\n2017 01 06 08\\n2016 01 06 08\\n2015 01 09 10\\n2014 01 18 19\\n2013 01 17 18\\n2012 01 12 13\\n2011 01 26 27\\n2010 01 13 14\\n2009 03 09 10\\n2008 01 26 27\\n2007 01 13 15\\n\\n'"
      ]
     },
     "execution_count": 4,
     "metadata": {},
     "output_type": "execute_result"
    }
   ],
   "source": [
    "\"\"\"\n",
    "2018 001\n",
    "2017 01 06 08\n",
    "2016 01 06 08\n",
    "2015 01 09 10\n",
    "2014 01 18 19\n",
    "2013 01 17 18\n",
    "2012 01 12 13\n",
    "2011 01 26 27\n",
    "2010 01 13 14\n",
    "2009 03 09 10\n",
    "2008 01 26 27\n",
    "2007 01 13 15\n",
    "\n",
    "\"\"\""
   ]
  },
  {
   "cell_type": "markdown",
   "metadata": {},
   "source": [
    "### Run Code With Saving"
   ]
  },
  {
   "cell_type": "code",
   "execution_count": 29,
   "metadata": {},
   "outputs": [],
   "source": [
    "for cruise in cruise_list:\n",
    "    url = build_url(cruise[0],cruise[1])\n",
    "    df = load_p_line_cruise(url)\n",
    "    df = rename_pline_columns(df)\n",
    "    df_1 = get_station_1(df)\n",
    "    df_26 = get_station_26(df)\n",
    "    \n",
    "    df1_file = './line_p/cruise-' +cruise[0] + '-' + cruise[1] +'-station-1.csv'\n",
    "    df26_file = './line_p/cruise-' +cruise[0] + '-' + cruise[1] +'-station-26.csv'\n",
    "    df_1.to_csv(df1_file,index=False)\n",
    "    df_26.to_csv(df26_file,index=False)\n",
    "    \n",
    "    "
   ]
  },
  {
   "cell_type": "markdown",
   "metadata": {},
   "source": [
    "### GRAVEYARD"
   ]
  },
  {
   "cell_type": "markdown",
   "metadata": {},
   "source": [
    "### Individual Case"
   ]
  },
  {
   "cell_type": "code",
   "execution_count": 6,
   "metadata": {},
   "outputs": [],
   "source": [
    "url = build_url('2010','01')\n",
    "df = load_p_line_cruise(url)\n",
    "df = rename_pline_columns(df) #\n",
    "df_1 = get_station_1(df)\n",
    "df_26 = get_station_26(df)\n"
   ]
  },
  {
   "cell_type": "markdown",
   "metadata": {},
   "source": [
    "### 2009 Special Case"
   ]
  },
  {
   "cell_type": "code",
   "execution_count": 28,
   "metadata": {},
   "outputs": [],
   "source": [
    "url = build_url('2009','03')\n",
    "df = load_p_line_cruise(url)\n",
    "df = rename_pline_columns(df) #\n",
    "df_1 = get_station_1(df)\n",
    "df_26 = get_station_26(df)\n",
    "\n",
    "df1_file = './line_p/cruise-' +'2009' + '-' + '03' +'-station-1.csv'\n",
    "df26_file = './line_p/cruise-' +'2009' + '-' + '03' +'-station-26.csv'\n",
    "\n",
    "df_1.to_csv(df1_file)\n",
    "df_26.to_csv(df26_file)"
   ]
  },
  {
   "cell_type": "code",
   "execution_count": null,
   "metadata": {},
   "outputs": [],
   "source": [
    "### Urls:\n",
    " line_2018_01 = 'https://www.waterproperties.ca/linep/2018-001/donneesctddata/2018-001-ctd-cruise.csv'\n",
    "'https://www.waterproperties.ca/linep/2017-01/donneesctddata/2017-01-ctd-cruise.csv'\n",
    "'https://www.waterproperties.ca/linep/2017-06/donneesctddata/2017-06-ctd-cruise.csv'\n",
    "'https://www.waterproperties.ca/linep/2017-08/donneesctddata/2017-08-ctd-cruise.csv'\n",
    "\n",
    "'https://www.waterproperties.ca/linep/2016-01/donneesctddata/2016-01-ctd-cruise.csv'\n",
    "\n",
    "'https://www.waterproperties.ca/linep/2009-03/donneesctddata/2009-03-ctd-cruise.csv'\n",
    "'https://www.waterproperties.ca/linep/2009-09/donneesctddata/2009-09-ctd-cruise.csv'\n",
    "'https://www.waterproperties.ca/linep/2009-10/donneesctddata/2009-10-ctd-cruise.csv'\n",
    "\n",
    "'https://www.waterproperties.ca/linep/2008-01/donneesctddata/2008-01-ctd-cruise.csv'\n",
    "'https://www.waterproperties.ca/linep/2008-26/donneesctddata/2008-26-ctd-cruise.csv'\n",
    "'https://www.waterproperties.ca/linep/2008-27/donneesctddata/2008-27-ctd-cruise.csv'\n",
    "\n",
    "'https://www.waterproperties.ca/linep/2007-01/donneesctddata/2007-01-ctd-cruise.csv'\n",
    "'https://www.waterproperties.ca/linep/2007-01/donneesctddata/2007-01-ctd-cruise.csv'\n",
    "'https://www.waterproperties.ca/linep/2007-13/donneesctddata/2007-13-ctd-cruise.csv'\n",
    "'https://www.waterproperties.ca/linep/2007-15/donneesctddata/2007-15-ctd-cruise.csv'\n"
   ]
  }
 ],
 "metadata": {
  "kernelspec": {
   "display_name": "Python 3",
   "language": "python",
   "name": "python3"
  },
  "language_info": {
   "codemirror_mode": {
    "name": "ipython",
    "version": 3
   },
   "file_extension": ".py",
   "mimetype": "text/x-python",
   "name": "python",
   "nbconvert_exporter": "python",
   "pygments_lexer": "ipython3",
   "version": "3.6.6"
  }
 },
 "nbformat": 4,
 "nbformat_minor": 2
}
