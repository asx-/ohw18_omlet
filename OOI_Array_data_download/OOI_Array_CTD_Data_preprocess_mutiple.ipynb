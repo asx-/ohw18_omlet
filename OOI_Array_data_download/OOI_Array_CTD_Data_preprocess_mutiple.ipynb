{
 "cells": [
  {
   "cell_type": "markdown",
   "metadata": {},
   "source": [
    "## Objective\n",
    "\n",
    "* Download OOI Array CTD Data \n",
    "* Transform related variables for machine learning QC.\n",
    "\n",
    "## Method\n",
    "\n",
    "* Take [Global Station Papa](http://ooi.visualocean.net/regions/view/GP) data as a testbed\n",
    "* Download major CTD variables (e.g., temperature, salinity, depth) and save them as a csv file\n",
    "* Output QC flags (normal or suspicious)\n",
    "* [OOI data QC methods](https://oceanobservatories.org/quality-control/)\n",
    "\n",
    "\n",
    "\n",
    "Here, I download CTD data from [OOI Station PAPA](https://ooinet.oceanobservatories.org/data_access/?search=Global%20Station%20Papa)."
   ]
  },
  {
   "cell_type": "code",
   "execution_count": 6,
   "metadata": {},
   "outputs": [],
   "source": [
    "import warnings\n",
    "warnings.filterwarnings('ignore')\n",
    "import requests\n",
    "import time\n",
    "import numpy as np\n",
    "from thredds_crawler.crawl import Crawl\n",
    "import os\n",
    "import xarray as xr\n",
    "import matplotlib.pyplot as plt\n",
    "import pandas as pd\n",
    "from download_OOI_Array_CTD_data import request_data, download_data, suspicious_rate\n",
    "\n",
    "# OOI data asscess setting\n",
    "# OOI data team account \n",
    "username = 'OOIAPI-D8S960UXPK4K03'\n",
    "token = 'IXL48EQ2XY'\n",
    "base_url = 'https://ooinet.oceanobservatories.org/api/m2m/12576/sensor/inv'"
   ]
  },
  {
   "cell_type": "code",
   "execution_count": 9,
   "metadata": {},
   "outputs": [
    {
     "data": {
      "text/html": [
       "<div>\n",
       "<style scoped>\n",
       "    .dataframe tbody tr th:only-of-type {\n",
       "        vertical-align: middle;\n",
       "    }\n",
       "\n",
       "    .dataframe tbody tr th {\n",
       "        vertical-align: top;\n",
       "    }\n",
       "\n",
       "    .dataframe thead th {\n",
       "        text-align: right;\n",
       "    }\n",
       "</style>\n",
       "<table border=\"1\" class=\"dataframe\">\n",
       "  <thead>\n",
       "    <tr style=\"text-align: right;\">\n",
       "      <th></th>\n",
       "      <th>array_name</th>\n",
       "      <th>ref_designator</th>\n",
       "      <th>method</th>\n",
       "      <th>stream</th>\n",
       "      <th>beginDT</th>\n",
       "      <th>endDT</th>\n",
       "    </tr>\n",
       "  </thead>\n",
       "  <tbody>\n",
       "    <tr>\n",
       "      <th>0</th>\n",
       "      <td>Global-Station-Papa</td>\n",
       "      <td>GP02HYPM-WFP02-04-CTDPFL000</td>\n",
       "      <td>telemetered</td>\n",
       "      <td>ctdpf_ckl_wfp_instrument</td>\n",
       "      <td>2013-07-26T11:00:03.000Z</td>\n",
       "      <td>2016-01-04T19:08:08.955Z</td>\n",
       "    </tr>\n",
       "    <tr>\n",
       "      <th>1</th>\n",
       "      <td>Global-Station-Papa</td>\n",
       "      <td>GP02HYPM-WFP03-04-CTDPFL000</td>\n",
       "      <td>telemetered</td>\n",
       "      <td>ctdpf_ckl_wfp_instrument</td>\n",
       "      <td>2013-07-26T15:00:03.000Z</td>\n",
       "      <td>2016-08-23T13:50:47.789Z</td>\n",
       "    </tr>\n",
       "  </tbody>\n",
       "</table>\n",
       "</div>"
      ],
      "text/plain": [
       "            array_name               ref_designator       method  \\\n",
       "0  Global-Station-Papa  GP02HYPM-WFP02-04-CTDPFL000  telemetered   \n",
       "1  Global-Station-Papa  GP02HYPM-WFP03-04-CTDPFL000  telemetered   \n",
       "\n",
       "                     stream                   beginDT  \\\n",
       "0  ctdpf_ckl_wfp_instrument  2013-07-26T11:00:03.000Z   \n",
       "1  ctdpf_ckl_wfp_instrument  2013-07-26T15:00:03.000Z   \n",
       "\n",
       "                      endDT  \n",
       "0  2016-01-04T19:08:08.955Z  \n",
       "1  2016-08-23T13:50:47.789Z  "
      ]
     },
     "execution_count": 9,
     "metadata": {},
     "output_type": "execute_result"
    }
   ],
   "source": [
    "# Find device address. Follow: https://github.com/ooi-data-review/m2m_demo/blob/master/notebooks/netcdf_data_request.ipynb\n",
    "# You need to change this if you're looking for other instruments.\n",
    "# See http://ooi.visualocean.net/instruments/view/GP02HYPM-WFP02-04-CTDPFL000\n",
    "\n",
    "#Apex Profiler Mooring Wire-Following Profiler CTD\n",
    "\n",
    "station_dict = {'array_name': ['Global-Station-Papa']*2,\n",
    "               'ref_designator': ['GP02HYPM-WFP02-04-CTDPFL000', \n",
    "                                  'GP02HYPM-WFP03-04-CTDPFL000'],\n",
    "               'method': ['telemetered']*2,\n",
    "               'stream': ['ctdpf_ckl_wfp_instrument', \n",
    "                          'ctdpf_ckl_wfp_instrument'],\n",
    "               'beginDT': ['2013-07-26T11:00:03.000Z', \n",
    "                          '2013-07-26T15:00:03.000Z'],\n",
    "               'endDT': ['2016-01-04T19:08:08.955Z', \n",
    "                         '2016-08-23T13:50:47.789Z']}\n",
    "station_df = pd.DataFrame(station_dict)\n",
    "station_df.head()"
   ]
  },
  {
   "cell_type": "code",
   "execution_count": 10,
   "metadata": {},
   "outputs": [
    {
     "name": "stdout",
     "output_type": "stream",
     "text": [
      "Data request url is: https://ooinet.oceanobservatories.org/api/m2m/12576/sensor/inv/GP02HYPM/WFP02/04-CTDPFL000/telemetered/ctdpf_ckl_wfp_instrument\n",
      "request completed!\n",
      "THREDDS server address: https://opendap.oceanobservatories.org/thredds/catalog/ooi/ooidatateam@gmail.com/20180823T204609-GP02HYPM-WFP02-04-CTDPFL000-telemetered-ctdpf_ckl_wfp_instrument/catalog.html\n",
      "Data saved as Global-Station-Papa_GP02HYPM-WFP02-04-CTDPFL000_telemetered_ctdpf_ckl_wfp_instrument.csv\n",
      "              suspicious_number  suspicious_rate\n",
      "temperature                  22         0.000761\n",
      "conductivity              14219         0.491684\n",
      "pressure                     22         0.000761\n",
      "salinity                     22         0.000761\n",
      "density                      22         0.000761\n",
      "Data request url is: https://ooinet.oceanobservatories.org/api/m2m/12576/sensor/inv/GP02HYPM/WFP03/04-CTDPFL000/telemetered/ctdpf_ckl_wfp_instrument\n",
      "request completed!\n",
      "THREDDS server address: https://opendap.oceanobservatories.org/thredds/catalog/ooi/ooidatateam@gmail.com/20180823T204735-GP02HYPM-WFP03-04-CTDPFL000-telemetered-ctdpf_ckl_wfp_instrument/catalog.html\n",
      "Data saved as Global-Station-Papa_GP02HYPM-WFP03-04-CTDPFL000_telemetered_ctdpf_ckl_wfp_instrument.csv\n",
      "              suspicious_number  suspicious_rate\n",
      "temperature                   0         0.000000\n",
      "conductivity              15834         0.579215\n",
      "pressure                     20         0.000732\n",
      "salinity                     20         0.000732\n",
      "density                      20         0.000732\n"
     ]
    }
   ],
   "source": [
    "for index, x in station_df.iterrows():\n",
    "    array_name = x['array_name']\n",
    "    refdes = x['ref_designator']\n",
    "    method = x['method']\n",
    "    stream = x['stream']\n",
    "    beginDT = x['beginDT']\n",
    "    endDT = x['endDT']\n",
    "    \n",
    "    # Request data first\n",
    "    data = request_data(username, token, base_url, refdes, method, stream, beginDT, endDT)\n",
    "    # Download data from Thresdds server and save them as csv files\n",
    "    df = download_data(data, array_name, refdes, method, stream)\n",
    "    # Calcuate suspicious rate\n",
    "    sp_df = suspicious_rate(df)\n",
    "    print(sp_df)"
   ]
  },
  {
   "cell_type": "markdown",
   "metadata": {},
   "source": [
    "QC table\n",
    "```\n",
    "Test name              Bit position\n",
    "                         15 14 13 12 11 10  9  8  7  6  5  4  3  2  1  0\n",
    "global_range_test         0  0  0  0  0  0  0  0  0  0  0  0  0  0  0  1\n",
    "dataqc_localrangetest     0  0  0  0  0  0  0  0  0  0  0  0  0  0  1  0\n",
    "dataqc_spiketest          0  0  0  0  0  0  0  0  0  0  0  0  0  1  0  0\n",
    "dataqc_polytrendtest      0  0  0  0  0  0  0  0  0  0  0  0  1  0  0  0\n",
    "dataqc_stuckvaluetest     0  0  0  0  0  0  0  0  0  0  0  1  0  0  0  0\n",
    "dataqc_gradienttest       0  0  0  0  0  0  0  0  0  0  1  0  0  0  0  0\n",
    "dataqc_propagateflags     0  0  0  0  0  0  0  0  1  0  0  0  0  0  0  0\n",
    "```\n",
    "\n"
   ]
  }
 ],
 "metadata": {
  "kernelspec": {
   "display_name": "Python [conda env:ohw_ml_env]",
   "language": "python",
   "name": "conda-env-ohw_ml_env-py"
  },
  "language_info": {
   "codemirror_mode": {
    "name": "ipython",
    "version": 3
   },
   "file_extension": ".py",
   "mimetype": "text/x-python",
   "name": "python",
   "nbconvert_exporter": "python",
   "pygments_lexer": "ipython3",
   "version": "3.6.6"
  }
 },
 "nbformat": 4,
 "nbformat_minor": 2
}
